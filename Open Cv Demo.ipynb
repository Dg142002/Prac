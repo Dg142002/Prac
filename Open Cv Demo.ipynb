{
 "cells": [
  {
   "cell_type": "code",
   "execution_count": 1,
   "id": "0093490c",
   "metadata": {},
   "outputs": [],
   "source": [
    "#pip install opencv-python"
   ]
  },
  {
   "cell_type": "code",
   "execution_count": 2,
   "id": "3da8b2f7",
   "metadata": {},
   "outputs": [],
   "source": [
    "import cv2\n",
    "import numpy as np"
   ]
  },
  {
   "cell_type": "code",
   "execution_count": 3,
   "id": "2db02bf1",
   "metadata": {},
   "outputs": [],
   "source": [
    "img = cv2.imread('Screenshot 2024-12-19 161043.png')"
   ]
  },
  {
   "cell_type": "code",
   "execution_count": 4,
   "id": "b19bd910",
   "metadata": {},
   "outputs": [
    {
     "data": {
      "text/plain": [
       "array([[[10, 21, 10],\n",
       "        [ 9, 21, 10],\n",
       "        [ 7, 20,  9],\n",
       "        ...,\n",
       "        [ 4, 13,  5],\n",
       "        [ 4, 12,  5],\n",
       "        [ 4, 10,  5]],\n",
       "\n",
       "       [[10, 21, 10],\n",
       "        [ 9, 21, 10],\n",
       "        [ 7, 20,  9],\n",
       "        ...,\n",
       "        [ 1, 11,  3],\n",
       "        [ 2,  9,  3],\n",
       "        [ 3,  9,  4]],\n",
       "\n",
       "       [[10, 21, 10],\n",
       "        [ 9, 21, 10],\n",
       "        [ 7, 20,  9],\n",
       "        ...,\n",
       "        [ 0,  9,  3],\n",
       "        [ 1,  9,  3],\n",
       "        [ 2,  8,  4]],\n",
       "\n",
       "       ...,\n",
       "\n",
       "       [[15, 28, 31],\n",
       "        [16, 26, 31],\n",
       "        [17, 26, 32],\n",
       "        ...,\n",
       "        [ 3,  8,  7],\n",
       "        [ 4,  9,  8],\n",
       "        [ 4,  9,  8]],\n",
       "\n",
       "       [[15, 28, 31],\n",
       "        [16, 27, 31],\n",
       "        [17, 26, 32],\n",
       "        ...,\n",
       "        [ 3,  8,  7],\n",
       "        [ 4,  8,  7],\n",
       "        [ 4,  9,  7]],\n",
       "\n",
       "       [[15, 28, 31],\n",
       "        [15, 27, 31],\n",
       "        [16, 27, 32],\n",
       "        ...,\n",
       "        [ 3,  8,  7],\n",
       "        [ 4,  8,  6],\n",
       "        [ 5,  8,  5]]], dtype=uint8)"
      ]
     },
     "execution_count": 4,
     "metadata": {},
     "output_type": "execute_result"
    }
   ],
   "source": [
    "img"
   ]
  },
  {
   "cell_type": "code",
   "execution_count": 5,
   "id": "1cbfacd7",
   "metadata": {},
   "outputs": [
    {
     "data": {
      "text/plain": [
       "(518, 706, 3)"
      ]
     },
     "execution_count": 5,
     "metadata": {},
     "output_type": "execute_result"
    }
   ],
   "source": [
    "img.shape # here 3 means in rgb and we can remove that as hsown below "
   ]
  },
  {
   "cell_type": "code",
   "execution_count": 6,
   "id": "2feb101a",
   "metadata": {},
   "outputs": [
    {
     "data": {
      "text/plain": [
       "(518, 706, 3)"
      ]
     },
     "execution_count": 6,
     "metadata": {},
     "output_type": "execute_result"
    }
   ],
   "source": [
    "img1=cv2.imread('Screenshot 2024-12-19 161043.png')\n",
    "img1.shape"
   ]
  },
  {
   "cell_type": "code",
   "execution_count": 7,
   "id": "40ff767c",
   "metadata": {},
   "outputs": [
    {
     "data": {
      "text/plain": [
       "-1"
      ]
     },
     "execution_count": 7,
     "metadata": {},
     "output_type": "execute_result"
    }
   ],
   "source": [
    "cv2.imshow(\"Pushpa\",img)\n",
    "cv2.waitKey(0)"
   ]
  },
  {
   "cell_type": "code",
   "execution_count": 8,
   "id": "080fac7d",
   "metadata": {},
   "outputs": [],
   "source": [
    "img2=cv2.imread('fire.png')"
   ]
  },
  {
   "cell_type": "code",
   "execution_count": 9,
   "id": "860bcf85",
   "metadata": {},
   "outputs": [
    {
     "data": {
      "text/plain": [
       "(448, 751, 3)"
      ]
     },
     "execution_count": 9,
     "metadata": {},
     "output_type": "execute_result"
    }
   ],
   "source": [
    "img2.shape"
   ]
  },
  {
   "cell_type": "code",
   "execution_count": 10,
   "id": "672002b6",
   "metadata": {},
   "outputs": [],
   "source": [
    "img3=cv2.resize(img1,(751, 448))"
   ]
  },
  {
   "cell_type": "code",
   "execution_count": 12,
   "id": "484c5323",
   "metadata": {},
   "outputs": [
    {
     "data": {
      "text/plain": [
       "-1"
      ]
     },
     "execution_count": 12,
     "metadata": {},
     "output_type": "execute_result"
    }
   ],
   "source": [
    "img4 = img2&img3\n",
    "cv2.imshow(\"sum\",img4)\n",
    "cv2.waitKey(0)"
   ]
  },
  {
   "cell_type": "code",
   "execution_count": null,
   "id": "6dd994b2",
   "metadata": {},
   "outputs": [],
   "source": []
  }
 ],
 "metadata": {
  "kernelspec": {
   "display_name": "Python 3 (ipykernel)",
   "language": "python",
   "name": "python3"
  },
  "language_info": {
   "codemirror_mode": {
    "name": "ipython",
    "version": 3
   },
   "file_extension": ".py",
   "mimetype": "text/x-python",
   "name": "python",
   "nbconvert_exporter": "python",
   "pygments_lexer": "ipython3",
   "version": "3.11.5"
  }
 },
 "nbformat": 4,
 "nbformat_minor": 5
}
